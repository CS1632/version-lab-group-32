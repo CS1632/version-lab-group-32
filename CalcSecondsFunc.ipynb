{
 "cells": [
  {
   "cell_type": "code",
   "execution_count": 2,
   "metadata": {},
   "outputs": [
    {
     "name": "stdout",
     "output_type": "stream",
     "text": [
      "826287376.576412\n"
     ]
    }
   ],
   "source": [
    "# Written by Katelyn Kunzmann\n",
    "\n",
    "# importing datetime module \n",
    "import datetime \n",
    "\n",
    "def calculateAge(year, month, day):\n",
    "    # Using now() to get current time \n",
    "    current_date = datetime.datetime.now() \n",
    "    birth_date = datetime.datetime(year, month, day)\n",
    "    \n",
    "    # Calculating difference from current time and birth date\n",
    "    diff = current_date - birth_date\n",
    "    \n",
    "    # Obtaining the number of seconds \n",
    "    total_seconds = diff.total_seconds()\n",
    "    \n",
    "    return total_seconds\n",
    "\n",
    "calculateAge(year, month, day)"
   ]
  }
 ],
 "metadata": {
  "kernelspec": {
   "display_name": "Python 3",
   "language": "python",
   "name": "python3"
  },
  "language_info": {
   "codemirror_mode": {
    "name": "ipython",
    "version": 3
   },
   "file_extension": ".py",
   "mimetype": "text/x-python",
   "name": "python",
   "nbconvert_exporter": "python",
   "pygments_lexer": "ipython3",
   "version": "3.8.3"
  }
 },
 "nbformat": 4,
 "nbformat_minor": 4
}
