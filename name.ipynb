{
 "cells": [
  {
   "cell_type": "markdown",
   "metadata": {},
   "source": [
    "# Given birthday finds how many days, months, and years old you are:"
   ]
  },
  {
   "cell_type": "code",
   "execution_count": 21,
   "metadata": {},
   "outputs": [
    {
     "name": "stdin",
     "output_type": "stream",
     "text": [
      "Please enter your name: taha\n",
      "Enter your birthday in the following format 'mm/dd/yyyy': 10/21/1997\n"
     ]
    },
    {
     "name": "stdout",
     "output_type": "stream",
     "text": [
      "Taha you are 24 years, 4 months, 8 days, 0 hours, 40 minutes, 47 seconds old.\n"
     ]
    }
   ],
   "source": [
    "# Written by Katelyn Kunzmann\n",
    "import datetime\n",
    "\n",
    "def calculateAge(year, month, day):\n",
    "    # Using now() to get current time \n",
    "    current_date = datetime.datetime.now() \n",
    "    birth_date = datetime.datetime(year, month, day)\n",
    "    \n",
    "    # Calculating difference from current time and birth date\n",
    "    diff = current_date - birth_date\n",
    "    \n",
    "    # Obtaining the number of seconds \n",
    "    total_seconds = diff.total_seconds()\n",
    "    \n",
    "    return total_seconds\n",
    "\n",
    "\n",
    "# Written by Michael Mascilli\n",
    "def printInfo(seconds, name):\n",
    "    year = int(seconds / 31536000) \n",
    "    seconds = seconds % 31536000\n",
    "    \n",
    "    months = int(seconds / 2592000)\n",
    "    seconds = seconds % 2592000\n",
    "    \n",
    "    day = int(seconds / 86400)\n",
    "    seconds = seconds % 86400\n",
    "    \n",
    "    hours = int(seconds / 3600)\n",
    "    seconds = seconds % 3600\n",
    "    \n",
    "    minutes = int(seconds / 60)\n",
    "    seconds = int(seconds % 60)\n",
    "    \n",
    "    \n",
    "    print(name.title() + \" you are \" + str(year) + \" years, \" + str(months) + \" months, \" + str(day) + \" days, \" + str(hours) + \" hours, \" + str(minutes) + \" minutes, \" + str(seconds) + \" seconds old.\")\n",
    "\n",
    "# Written by Taha Ahmad (and files organized)\n",
    "name = input(\"Please enter your name:\")\n",
    "birth_date = input(\"Enter your birthday in the following format 'mm/dd/yyyy':\")\n",
    "dmy = birth_date.split(\"/\");\n",
    "\n",
    "sec = calculateAge(int(dmy[2]), int(dmy[0]), int(dmy[1]))  \n",
    "printInfo(sec, name)\n"
   ]
  }
 ],
 "metadata": {
  "kernelspec": {
   "display_name": "Python 3",
   "language": "python",
   "name": "python3"
  },
  "language_info": {
   "codemirror_mode": {
    "name": "ipython",
    "version": 3
   },
   "file_extension": ".py",
   "mimetype": "text/x-python",
   "name": "python",
   "nbconvert_exporter": "python",
   "pygments_lexer": "ipython3",
   "version": "3.8.3"
  }
 },
 "nbformat": 4,
 "nbformat_minor": 4
}
