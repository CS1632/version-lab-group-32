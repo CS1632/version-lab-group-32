{
 "cells": [
  {
   "cell_type": "markdown",
   "metadata": {},
   "source": [
    "# Given birthday finds how many days, months, and years old you are:"
   ]
  },
  {
   "cell_type": "code",
   "execution_count": 10,
   "metadata": {},
   "outputs": [
    {
     "name": "stdin",
     "output_type": "stream",
     "text": [
      "Please enter your name: taha\n",
      "Enter your birthday in the following format 'mm/dd/yyyy': 10/21/1997\n"
     ]
    },
    {
     "name": "stdout",
     "output_type": "stream",
     "text": [
      "1997 10 21\n"
     ]
    }
   ],
   "source": [
    "name = input(\"Please enter your name:\")\n",
    "birth_date = input(\"Enter your birthday in the following format 'mm/dd/yyyy':\")\n",
    "dmy = birth_date.split(\"/\");\n",
    "calculateAge(dmy[2], dmy[0], dmy[1])    "
   ]
  },
  {
   "cell_type": "code",
   "execution_count": null,
   "metadata": {},
   "outputs": [],
   "source": []
  }
 ],
 "metadata": {
  "kernelspec": {
   "display_name": "Python 3",
   "language": "python",
   "name": "python3"
  },
  "language_info": {
   "codemirror_mode": {
    "name": "ipython",
    "version": 3
   },
   "file_extension": ".py",
   "mimetype": "text/x-python",
   "name": "python",
   "nbconvert_exporter": "python",
   "pygments_lexer": "ipython3",
   "version": "3.8.3"
  }
 },
 "nbformat": 4,
 "nbformat_minor": 4
}
