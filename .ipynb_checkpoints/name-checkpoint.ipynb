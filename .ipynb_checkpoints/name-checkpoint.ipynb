{
 "cells": [
  {
   "cell_type": "markdown",
   "metadata": {},
   "source": [
    "# Given birthday finds how many days, months, and years old you are:"
   ]
  },
  {
   "cell_type": "code",
   "execution_count": 9,
   "metadata": {},
   "outputs": [
    {
     "name": "stdin",
     "output_type": "stream",
     "text": [
      "Please enter your name: michael\n",
      "Enter your birthday in the following format 'mm/dd/yyyy': 07/27/2001\n"
     ]
    },
    {
     "ename": "NameError",
     "evalue": "name 'calculateAge' is not defined",
     "output_type": "error",
     "traceback": [
      "\u001b[0;31m---------------------------------------------------------------------------\u001b[0m",
      "\u001b[0;31mNameError\u001b[0m                                 Traceback (most recent call last)",
      "\u001b[0;32m<ipython-input-9-1cbeef215324>\u001b[0m in \u001b[0;36m<module>\u001b[0;34m\u001b[0m\n\u001b[1;32m     21\u001b[0m \u001b[0mdmy\u001b[0m \u001b[0;34m=\u001b[0m \u001b[0mbirth_date\u001b[0m\u001b[0;34m.\u001b[0m\u001b[0msplit\u001b[0m\u001b[0;34m(\u001b[0m\u001b[0;34m\"/\"\u001b[0m\u001b[0;34m)\u001b[0m\u001b[0;34m;\u001b[0m\u001b[0;34m\u001b[0m\u001b[0;34m\u001b[0m\u001b[0m\n\u001b[1;32m     22\u001b[0m \u001b[0;34m\u001b[0m\u001b[0m\n\u001b[0;32m---> 23\u001b[0;31m \u001b[0msec\u001b[0m \u001b[0;34m=\u001b[0m \u001b[0mcalculateAge\u001b[0m\u001b[0;34m(\u001b[0m\u001b[0mdmy\u001b[0m\u001b[0;34m[\u001b[0m\u001b[0;36m2\u001b[0m\u001b[0;34m]\u001b[0m\u001b[0;34m,\u001b[0m \u001b[0mdmy\u001b[0m\u001b[0;34m[\u001b[0m\u001b[0;36m0\u001b[0m\u001b[0;34m]\u001b[0m\u001b[0;34m,\u001b[0m \u001b[0mdmy\u001b[0m\u001b[0;34m[\u001b[0m\u001b[0;36m1\u001b[0m\u001b[0;34m]\u001b[0m\u001b[0;34m)\u001b[0m\u001b[0;34m\u001b[0m\u001b[0;34m\u001b[0m\u001b[0m\n\u001b[0m\u001b[1;32m     24\u001b[0m \u001b[0mprintInfo\u001b[0m\u001b[0;34m(\u001b[0m\u001b[0msec\u001b[0m\u001b[0;34m)\u001b[0m\u001b[0;34m\u001b[0m\u001b[0;34m\u001b[0m\u001b[0m\n",
      "\u001b[0;31mNameError\u001b[0m: name 'calculateAge' is not defined"
     ]
    }
   ],
   "source": [
    "def printInfo(seconds):\n",
    "    year = seconds // 31536000 \n",
    "    seconds = seconds % 31536000\n",
    "    \n",
    "    months = seconds // 2592000\n",
    "    seconds = seconds % 2592000\n",
    "    \n",
    "    day = seconds // 86400\n",
    "    seconds = seconds % 86400\n",
    "    \n",
    "    hours = seconds // 3600\n",
    "    seconds = seconds % 3600\n",
    "    \n",
    "    minutes = seconds // 60\n",
    "    \n",
    "    \n",
    "    print(\"You are \" + str(year) + \" years, \" + str(months) + \" months, \" + str(day) + \" days, \" + str(hours) + \" hours, \" + str(minutes) + \" minutes, \" + str(seconds) + \" seconds old.\")\n",
    "\n",
    "name = input(\"Please enter your name:\")\n",
    "birth_date = input(\"Enter your birthday in the following format 'mm/dd/yyyy':\")\n",
    "dmy = birth_date.split(\"/\");\n",
    "\n",
    "sec = calculateAge(dmy[2], dmy[0], dmy[1])  \n",
    "printInfo(sec)\n"
   ]
  },
  {
   "cell_type": "code",
   "execution_count": null,
   "metadata": {},
   "outputs": [],
   "source": []
  },
  {
   "cell_type": "code",
   "execution_count": null,
   "metadata": {},
   "outputs": [],
   "source": []
  }
 ],
 "metadata": {
  "kernelspec": {
   "display_name": "Python 3",
   "language": "python",
   "name": "python3"
  },
  "language_info": {
   "codemirror_mode": {
    "name": "ipython",
    "version": 3
   },
   "file_extension": ".py",
   "mimetype": "text/x-python",
   "name": "python",
   "nbconvert_exporter": "python",
   "pygments_lexer": "ipython3",
   "version": "3.8.3"
  }
 },
 "nbformat": 4,
 "nbformat_minor": 4
}
